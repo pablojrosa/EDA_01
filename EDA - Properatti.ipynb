{
 "cells": [
  {
   "cell_type": "markdown",
   "metadata": {},
   "source": [
    "# Análisis mercado inmobiliario de la Ciudad de Buenos Aires - Properati"
   ]
  },
  {
   "cell_type": "markdown",
   "metadata": {},
   "source": [
    "## Los atributos\n",
    "\n",
    "* **id**: id de la propiedad\n",
    "* **created_on**: fecha en la que la propiedad ingresó al sitio\n",
    "* **operation**: alquiler (rent) o venta (sell)\n",
    "* **property_type**: tipo de propiedad (casa, departamento, ph, etcétera)\n",
    "* **place_with_parent_names**: nombre del lugar donde se encuentra la propiedad según el publicador\n",
    "* **lat-lon**: coordenadas concatenadas\n",
    "* **lat**: latitud\n",
    "* **lon**: longitud\n",
    "* **price**: precio en la moneda especificada en currency\n",
    "* **currency**: divisa en la que está expresada la publicación\n",
    "* **price_aprox_usd**: precio aproximado en dólares estadounidenses\n",
    "* **surface_total_in_m2**: superficie total (en metros cuadrados)\n",
    "* **surface_covered_in_m2**: superficie cubierta (en metros cuadrados)\n",
    "* **price_usd_per_m2**: precio por metro cuadrado en dólares (precio dólares / superficie)\n",
    "* **floor**: número de piso (si corresponde)\n",
    "* **rooms**: cantidad de ambientes\n",
    "* **expenses**: expensas (si corresponde)\n",
    "* **barrio**: barrio según cartografía oficial\n",
    "* **properati_url**: url de la publicación en Properati\n"
   ]
  },
  {
   "cell_type": "markdown",
   "metadata": {},
   "source": [
    "## Objetivos\n",
    "* Describir el dataset\n",
    "* Identificar valores extraós y limpiar el dataset\n",
    "* Encontrar los valores máximos y minimos de las diferentes categorias\n",
    "* Identificar relaciones entre variables\n",
    "* Responder preguntas de negocio\n",
    "* Elaborar modelos de ML que me permitan clasificar el barrio al cual puede pertenecer un registro"
   ]
  },
  {
   "cell_type": "code",
   "execution_count": 1,
   "metadata": {},
   "outputs": [],
   "source": [
    "# Importar bibliotecas en esta celda\n",
    "import pandas as pd\n",
    "import numpy as np\n",
    "import matplotlib.pyplot as plt\n",
    "import seaborn as sns\n",
    "\n",
    "#Seteo de parametros de los gráficos\n",
    "plt.rcParams['figure.figsize'] = (12,8)\n",
    "plt.rcParams['xtick.labelsize'] = 10\n",
    "plt.rcParams['ytick.labelsize'] = 10"
   ]
  },
  {
   "cell_type": "code",
   "execution_count": 2,
   "metadata": {},
   "outputs": [],
   "source": [
    "# cargá el dataset en esta celda\n",
    "df = pd.read_csv('in/datos_properati.csv', parse_dates=[\"created_on\"])"
   ]
  },
  {
   "cell_type": "code",
   "execution_count": 4,
   "metadata": {},
   "outputs": [
    {
     "data": {
      "text/plain": [
       "'import pipeline\\ndf = pipeline.main(df)'"
      ]
     },
     "execution_count": 4,
     "metadata": {},
     "output_type": "execute_result"
    }
   ],
   "source": [
    "\"\"\"import pipeline\n",
    "df = pipeline.main(df)\"\"\""
   ]
  },
  {
   "cell_type": "code",
   "execution_count": 5,
   "metadata": {},
   "outputs": [
    {
     "name": "stdout",
     "output_type": "stream",
     "text": [
      "(18979, 17)\n"
     ]
    },
    {
     "data": {
      "text/html": [
       "<div>\n",
       "<style scoped>\n",
       "    .dataframe tbody tr th:only-of-type {\n",
       "        vertical-align: middle;\n",
       "    }\n",
       "\n",
       "    .dataframe tbody tr th {\n",
       "        vertical-align: top;\n",
       "    }\n",
       "\n",
       "    .dataframe thead th {\n",
       "        text-align: right;\n",
       "    }\n",
       "</style>\n",
       "<table border=\"1\" class=\"dataframe\">\n",
       "  <thead>\n",
       "    <tr style=\"text-align: right;\">\n",
       "      <th></th>\n",
       "      <th>created_on</th>\n",
       "      <th>operation</th>\n",
       "      <th>property_type</th>\n",
       "      <th>place_with_parent_names</th>\n",
       "      <th>lat-lon</th>\n",
       "      <th>lat</th>\n",
       "      <th>lon</th>\n",
       "      <th>price_aprox_usd</th>\n",
       "      <th>surface_total_in_m2</th>\n",
       "      <th>surface_covered_in_m2</th>\n",
       "      <th>price_usd_per_m2</th>\n",
       "      <th>floor</th>\n",
       "      <th>rooms</th>\n",
       "      <th>expenses</th>\n",
       "      <th>properati_url</th>\n",
       "      <th>barrio</th>\n",
       "      <th>comuna</th>\n",
       "    </tr>\n",
       "  </thead>\n",
       "  <tbody>\n",
       "    <tr>\n",
       "      <th>0</th>\n",
       "      <td>2017-09-22</td>\n",
       "      <td>sell</td>\n",
       "      <td>house</td>\n",
       "      <td>|Argentina|Capital Federal|Palermo|Palermo Viejo|</td>\n",
       "      <td>-34.5889531469,-58.4298817776</td>\n",
       "      <td>-34.588953</td>\n",
       "      <td>-58.429882</td>\n",
       "      <td>2000000.0</td>\n",
       "      <td>312.0</td>\n",
       "      <td>NaN</td>\n",
       "      <td>6410.25641</td>\n",
       "      <td>NaN</td>\n",
       "      <td>NaN</td>\n",
       "      <td>NaN</td>\n",
       "      <td>https://www.properati.com.ar/2os_venta_casa_pa...</td>\n",
       "      <td>PALERMO</td>\n",
       "      <td>14.0</td>\n",
       "    </tr>\n",
       "    <tr>\n",
       "      <th>1</th>\n",
       "      <td>2017-08-01</td>\n",
       "      <td>sell</td>\n",
       "      <td>store</td>\n",
       "      <td>|Argentina|Capital Federal|Palermo|</td>\n",
       "      <td>-34.586069,-58.414431</td>\n",
       "      <td>-34.586069</td>\n",
       "      <td>-58.414431</td>\n",
       "      <td>790000.0</td>\n",
       "      <td>121.0</td>\n",
       "      <td>121.0</td>\n",
       "      <td>6528.92562</td>\n",
       "      <td>NaN</td>\n",
       "      <td>NaN</td>\n",
       "      <td>NaN</td>\n",
       "      <td>https://www.properati.com.ar/1cl7l_venta_local...</td>\n",
       "      <td>PALERMO</td>\n",
       "      <td>14.0</td>\n",
       "    </tr>\n",
       "    <tr>\n",
       "      <th>2</th>\n",
       "      <td>2017-08-02</td>\n",
       "      <td>sell</td>\n",
       "      <td>store</td>\n",
       "      <td>|Argentina|Capital Federal|Palermo|Palermo Soho|</td>\n",
       "      <td>-34.589723,-58.4325664</td>\n",
       "      <td>-34.589723</td>\n",
       "      <td>-58.432566</td>\n",
       "      <td>343000.0</td>\n",
       "      <td>122.0</td>\n",
       "      <td>108.0</td>\n",
       "      <td>2811.47541</td>\n",
       "      <td>NaN</td>\n",
       "      <td>2.0</td>\n",
       "      <td>NaN</td>\n",
       "      <td>https://www.properati.com.ar/1cm8w_venta_local...</td>\n",
       "      <td>PALERMO</td>\n",
       "      <td>14.0</td>\n",
       "    </tr>\n",
       "  </tbody>\n",
       "</table>\n",
       "</div>"
      ],
      "text/plain": [
       "  created_on operation property_type  \\\n",
       "0 2017-09-22      sell         house   \n",
       "1 2017-08-01      sell         store   \n",
       "2 2017-08-02      sell         store   \n",
       "\n",
       "                             place_with_parent_names  \\\n",
       "0  |Argentina|Capital Federal|Palermo|Palermo Viejo|   \n",
       "1                |Argentina|Capital Federal|Palermo|   \n",
       "2   |Argentina|Capital Federal|Palermo|Palermo Soho|   \n",
       "\n",
       "                         lat-lon        lat        lon  price_aprox_usd  \\\n",
       "0  -34.5889531469,-58.4298817776 -34.588953 -58.429882        2000000.0   \n",
       "1          -34.586069,-58.414431 -34.586069 -58.414431         790000.0   \n",
       "2         -34.589723,-58.4325664 -34.589723 -58.432566         343000.0   \n",
       "\n",
       "   surface_total_in_m2  surface_covered_in_m2  price_usd_per_m2  floor  rooms  \\\n",
       "0                312.0                    NaN        6410.25641    NaN    NaN   \n",
       "1                121.0                  121.0        6528.92562    NaN    NaN   \n",
       "2                122.0                  108.0        2811.47541    NaN    2.0   \n",
       "\n",
       "   expenses                                      properati_url   barrio  \\\n",
       "0       NaN  https://www.properati.com.ar/2os_venta_casa_pa...  PALERMO   \n",
       "1       NaN  https://www.properati.com.ar/1cl7l_venta_local...  PALERMO   \n",
       "2       NaN  https://www.properati.com.ar/1cm8w_venta_local...  PALERMO   \n",
       "\n",
       "   comuna  \n",
       "0    14.0  \n",
       "1    14.0  \n",
       "2    14.0  "
      ]
     },
     "execution_count": 5,
     "metadata": {},
     "output_type": "execute_result"
    }
   ],
   "source": [
    "print(df.shape)\n",
    "df.head(3)"
   ]
  },
  {
   "cell_type": "code",
   "execution_count": 6,
   "metadata": {},
   "outputs": [
    {
     "name": "stdout",
     "output_type": "stream",
     "text": [
      "<class 'pandas.core.frame.DataFrame'>\n",
      "RangeIndex: 18979 entries, 0 to 18978\n",
      "Data columns (total 17 columns):\n",
      "created_on                 18979 non-null datetime64[ns]\n",
      "operation                  18979 non-null object\n",
      "property_type              18979 non-null object\n",
      "place_with_parent_names    18979 non-null object\n",
      "lat-lon                    18979 non-null object\n",
      "lat                        18979 non-null float64\n",
      "lon                        18979 non-null float64\n",
      "price_aprox_usd            17445 non-null float64\n",
      "surface_total_in_m2        16586 non-null float64\n",
      "surface_covered_in_m2      16876 non-null float64\n",
      "price_usd_per_m2           16037 non-null float64\n",
      "floor                      2756 non-null float64\n",
      "rooms                      13517 non-null float64\n",
      "expenses                   3815 non-null float64\n",
      "properati_url              18979 non-null object\n",
      "barrio                     18979 non-null object\n",
      "comuna                     18979 non-null float64\n",
      "dtypes: datetime64[ns](1), float64(10), object(6)\n",
      "memory usage: 2.5+ MB\n"
     ]
    }
   ],
   "source": [
    "df.info()"
   ]
  },
  {
   "cell_type": "code",
   "execution_count": 7,
   "metadata": {},
   "outputs": [
    {
     "data": {
      "text/html": [
       "<div>\n",
       "<style scoped>\n",
       "    .dataframe tbody tr th:only-of-type {\n",
       "        vertical-align: middle;\n",
       "    }\n",
       "\n",
       "    .dataframe tbody tr th {\n",
       "        vertical-align: top;\n",
       "    }\n",
       "\n",
       "    .dataframe thead th {\n",
       "        text-align: right;\n",
       "    }\n",
       "</style>\n",
       "<table border=\"1\" class=\"dataframe\">\n",
       "  <thead>\n",
       "    <tr style=\"text-align: right;\">\n",
       "      <th></th>\n",
       "      <th>lat</th>\n",
       "      <th>lon</th>\n",
       "      <th>price_aprox_usd</th>\n",
       "      <th>surface_total_in_m2</th>\n",
       "      <th>surface_covered_in_m2</th>\n",
       "      <th>price_usd_per_m2</th>\n",
       "      <th>floor</th>\n",
       "      <th>rooms</th>\n",
       "      <th>expenses</th>\n",
       "      <th>comuna</th>\n",
       "    </tr>\n",
       "  </thead>\n",
       "  <tbody>\n",
       "    <tr>\n",
       "      <th>count</th>\n",
       "      <td>18979.000000</td>\n",
       "      <td>18979.000000</td>\n",
       "      <td>1.744500e+04</td>\n",
       "      <td>16586.000000</td>\n",
       "      <td>16876.000000</td>\n",
       "      <td>16037.000000</td>\n",
       "      <td>2756.000000</td>\n",
       "      <td>13517.000000</td>\n",
       "      <td>3.815000e+03</td>\n",
       "      <td>18979.000000</td>\n",
       "    </tr>\n",
       "    <tr>\n",
       "      <th>mean</th>\n",
       "      <td>-34.600838</td>\n",
       "      <td>-58.435161</td>\n",
       "      <td>2.963559e+05</td>\n",
       "      <td>142.784758</td>\n",
       "      <td>127.491171</td>\n",
       "      <td>2760.408525</td>\n",
       "      <td>11.040639</td>\n",
       "      <td>3.033661</td>\n",
       "      <td>4.884536e+03</td>\n",
       "      <td>7.981137</td>\n",
       "    </tr>\n",
       "    <tr>\n",
       "      <th>std</th>\n",
       "      <td>0.026372</td>\n",
       "      <td>0.040787</td>\n",
       "      <td>4.108344e+05</td>\n",
       "      <td>1731.936727</td>\n",
       "      <td>1524.167396</td>\n",
       "      <td>1940.153216</td>\n",
       "      <td>53.448795</td>\n",
       "      <td>1.778162</td>\n",
       "      <td>3.024617e+04</td>\n",
       "      <td>5.007441</td>\n",
       "    </tr>\n",
       "    <tr>\n",
       "      <th>min</th>\n",
       "      <td>-34.695717</td>\n",
       "      <td>-58.530822</td>\n",
       "      <td>5.043300e+03</td>\n",
       "      <td>0.000000</td>\n",
       "      <td>1.000000</td>\n",
       "      <td>0.958333</td>\n",
       "      <td>1.000000</td>\n",
       "      <td>1.000000</td>\n",
       "      <td>1.000000e+00</td>\n",
       "      <td>1.000000</td>\n",
       "    </tr>\n",
       "    <tr>\n",
       "      <th>25%</th>\n",
       "      <td>-34.619827</td>\n",
       "      <td>-58.464637</td>\n",
       "      <td>1.200000e+05</td>\n",
       "      <td>48.000000</td>\n",
       "      <td>43.000000</td>\n",
       "      <td>1984.126984</td>\n",
       "      <td>2.000000</td>\n",
       "      <td>2.000000</td>\n",
       "      <td>1.600000e+03</td>\n",
       "      <td>3.000000</td>\n",
       "    </tr>\n",
       "    <tr>\n",
       "      <th>50%</th>\n",
       "      <td>-34.601014</td>\n",
       "      <td>-58.434293</td>\n",
       "      <td>1.800000e+05</td>\n",
       "      <td>75.000000</td>\n",
       "      <td>67.000000</td>\n",
       "      <td>2545.454545</td>\n",
       "      <td>4.000000</td>\n",
       "      <td>3.000000</td>\n",
       "      <td>2.800000e+03</td>\n",
       "      <td>7.000000</td>\n",
       "    </tr>\n",
       "    <tr>\n",
       "      <th>75%</th>\n",
       "      <td>-34.582748</td>\n",
       "      <td>-58.401513</td>\n",
       "      <td>3.200000e+05</td>\n",
       "      <td>134.000000</td>\n",
       "      <td>117.000000</td>\n",
       "      <td>3162.790698</td>\n",
       "      <td>8.000000</td>\n",
       "      <td>4.000000</td>\n",
       "      <td>5.000000e+03</td>\n",
       "      <td>13.000000</td>\n",
       "    </tr>\n",
       "    <tr>\n",
       "      <th>max</th>\n",
       "      <td>-34.534315</td>\n",
       "      <td>-58.353227</td>\n",
       "      <td>1.350000e+07</td>\n",
       "      <td>184000.000000</td>\n",
       "      <td>150000.000000</td>\n",
       "      <td>142450.141026</td>\n",
       "      <td>904.000000</td>\n",
       "      <td>38.000000</td>\n",
       "      <td>1.843611e+06</td>\n",
       "      <td>15.000000</td>\n",
       "    </tr>\n",
       "  </tbody>\n",
       "</table>\n",
       "</div>"
      ],
      "text/plain": [
       "                lat           lon  price_aprox_usd  surface_total_in_m2  \\\n",
       "count  18979.000000  18979.000000     1.744500e+04         16586.000000   \n",
       "mean     -34.600838    -58.435161     2.963559e+05           142.784758   \n",
       "std        0.026372      0.040787     4.108344e+05          1731.936727   \n",
       "min      -34.695717    -58.530822     5.043300e+03             0.000000   \n",
       "25%      -34.619827    -58.464637     1.200000e+05            48.000000   \n",
       "50%      -34.601014    -58.434293     1.800000e+05            75.000000   \n",
       "75%      -34.582748    -58.401513     3.200000e+05           134.000000   \n",
       "max      -34.534315    -58.353227     1.350000e+07        184000.000000   \n",
       "\n",
       "       surface_covered_in_m2  price_usd_per_m2        floor         rooms  \\\n",
       "count           16876.000000      16037.000000  2756.000000  13517.000000   \n",
       "mean              127.491171       2760.408525    11.040639      3.033661   \n",
       "std              1524.167396       1940.153216    53.448795      1.778162   \n",
       "min                 1.000000          0.958333     1.000000      1.000000   \n",
       "25%                43.000000       1984.126984     2.000000      2.000000   \n",
       "50%                67.000000       2545.454545     4.000000      3.000000   \n",
       "75%               117.000000       3162.790698     8.000000      4.000000   \n",
       "max            150000.000000     142450.141026   904.000000     38.000000   \n",
       "\n",
       "           expenses        comuna  \n",
       "count  3.815000e+03  18979.000000  \n",
       "mean   4.884536e+03      7.981137  \n",
       "std    3.024617e+04      5.007441  \n",
       "min    1.000000e+00      1.000000  \n",
       "25%    1.600000e+03      3.000000  \n",
       "50%    2.800000e+03      7.000000  \n",
       "75%    5.000000e+03     13.000000  \n",
       "max    1.843611e+06     15.000000  "
      ]
     },
     "execution_count": 7,
     "metadata": {},
     "output_type": "execute_result"
    }
   ],
   "source": [
    "df.describe()"
   ]
  },
  {
   "cell_type": "code",
   "execution_count": 8,
   "metadata": {
    "scrolled": false
   },
   "outputs": [
    {
     "data": {
      "image/png": "[encoded data removed]",
      "text/plain": [
       "<Figure size 432x288 with 1 Axes>"
      ]
     },
     "metadata": {
      "needs_background": "light"
     },
     "output_type": "display_data"
    }
   ],
   "source": [
    "plt.ylabel('cantidad', fontsize=14)\n",
    "plt.xlabel('property_type', fontsize=14)\n",
    "\n",
    "plt.title('Cantidad de property_type', fontsize = 16)\n",
    "\n",
    "grouped_property_type = pd.DataFrame(df.groupby('property_type')['property_type'].size().reset_index(name='total'))\n",
    "grouped_property_type = grouped_property_type.sort_values(by='total', ascending = False)\n",
    "\n",
    "x = grouped_property_type['property_type'].values\n",
    "y = grouped_property_type['total'].values\n",
    "\n",
    "plt.bar(x,y, color='orange')\n",
    "\n",
    "plt.show();"
   ]
  },
  {
   "cell_type": "markdown",
   "metadata": {},
   "source": [
    "## Categorías relevantes:\n",
    "    * property_type\n",
    "    * barrio\n",
    "    * operation"
   ]
  },
  {
   "cell_type": "code",
   "execution_count": 9,
   "metadata": {},
   "outputs": [
    {
     "data": {
      "text/html": [
       "<div>\n",
       "<style scoped>\n",
       "    .dataframe tbody tr th:only-of-type {\n",
       "        vertical-align: middle;\n",
       "    }\n",
       "\n",
       "    .dataframe tbody tr th {\n",
       "        vertical-align: top;\n",
       "    }\n",
       "\n",
       "    .dataframe thead th {\n",
       "        text-align: right;\n",
       "    }\n",
       "</style>\n",
       "<table border=\"1\" class=\"dataframe\">\n",
       "  <thead>\n",
       "    <tr style=\"text-align: right;\">\n",
       "      <th></th>\n",
       "      <th>property_type</th>\n",
       "      <th>total</th>\n",
       "    </tr>\n",
       "  </thead>\n",
       "  <tbody>\n",
       "    <tr>\n",
       "      <th>1</th>\n",
       "      <td>apartment</td>\n",
       "      <td>14807</td>\n",
       "    </tr>\n",
       "    <tr>\n",
       "      <th>2</th>\n",
       "      <td>house</td>\n",
       "      <td>1618</td>\n",
       "    </tr>\n",
       "    <tr>\n",
       "      <th>0</th>\n",
       "      <td>PH</td>\n",
       "      <td>1463</td>\n",
       "    </tr>\n",
       "    <tr>\n",
       "      <th>3</th>\n",
       "      <td>store</td>\n",
       "      <td>1091</td>\n",
       "    </tr>\n",
       "  </tbody>\n",
       "</table>\n",
       "</div>"
      ],
      "text/plain": [
       "  property_type  total\n",
       "1     apartment  14807\n",
       "2         house   1618\n",
       "0            PH   1463\n",
       "3         store   1091"
      ]
     },
     "execution_count": 9,
     "metadata": {},
     "output_type": "execute_result"
    }
   ],
   "source": [
    "grouped_property_type"
   ]
  },
  {
   "cell_type": "code",
   "execution_count": 10,
   "metadata": {},
   "outputs": [
    {
     "data": {
      "image/png": "[encoded data removed]",
      "text/plain": [
       "<Figure size 864x432 with 1 Axes>"
      ]
     },
     "metadata": {
      "needs_background": "light"
     },
     "output_type": "display_data"
    }
   ],
   "source": [
    "plt.rcParams['figure.figsize'] = (12,6)\n",
    "plt.rcParams['xtick.labelsize'] = 10\n",
    "plt.ylabel('cantidad', fontsize=14)\n",
    "plt.title('Cantidad de property_type', fontsize = 16)\n",
    "plt.xlabel('barrio', fontsize=14)\n",
    "plt.xticks(rotation=60)\n",
    "\n",
    "grouped_barrio = pd.DataFrame(df.groupby('barrio')['barrio'].size().reset_index(name='total'))\n",
    "grouped_barrio = grouped_barrio.sort_values(by='total', ascending = False).reset_index(drop=True)\n",
    "\n",
    "x = grouped_barrio.head(15)['barrio'].values\n",
    "y = grouped_barrio.head(15)['total'].values\n",
    "\n",
    "plt.bar(x,y, color='grey')\n",
    "\n",
    "plt.show();"
   ]
  },
  {
   "cell_type": "code",
   "execution_count": 11,
   "metadata": {
    "scrolled": true
   },
   "outputs": [
    {
     "data": {
      "text/html": [
       "<div>\n",
       "<style scoped>\n",
       "    .dataframe tbody tr th:only-of-type {\n",
       "        vertical-align: middle;\n",
       "    }\n",
       "\n",
       "    .dataframe tbody tr th {\n",
       "        vertical-align: top;\n",
       "    }\n",
       "\n",
       "    .dataframe thead th {\n",
       "        text-align: right;\n",
       "    }\n",
       "</style>\n",
       "<table border=\"1\" class=\"dataframe\">\n",
       "  <thead>\n",
       "    <tr style=\"text-align: right;\">\n",
       "      <th></th>\n",
       "      <th>barrio</th>\n",
       "      <th>total</th>\n",
       "    </tr>\n",
       "  </thead>\n",
       "  <tbody>\n",
       "    <tr>\n",
       "      <th>0</th>\n",
       "      <td>PALERMO</td>\n",
       "      <td>2424</td>\n",
       "    </tr>\n",
       "    <tr>\n",
       "      <th>1</th>\n",
       "      <td>RECOLETA</td>\n",
       "      <td>1615</td>\n",
       "    </tr>\n",
       "    <tr>\n",
       "      <th>2</th>\n",
       "      <td>CABALLITO</td>\n",
       "      <td>1251</td>\n",
       "    </tr>\n",
       "    <tr>\n",
       "      <th>3</th>\n",
       "      <td>BELGRANO</td>\n",
       "      <td>1174</td>\n",
       "    </tr>\n",
       "    <tr>\n",
       "      <th>4</th>\n",
       "      <td>BALVANERA</td>\n",
       "      <td>1068</td>\n",
       "    </tr>\n",
       "    <tr>\n",
       "      <th>5</th>\n",
       "      <td>FLORES</td>\n",
       "      <td>841</td>\n",
       "    </tr>\n",
       "    <tr>\n",
       "      <th>6</th>\n",
       "      <td>ALMAGRO</td>\n",
       "      <td>781</td>\n",
       "    </tr>\n",
       "    <tr>\n",
       "      <th>7</th>\n",
       "      <td>VILLA CRESPO</td>\n",
       "      <td>726</td>\n",
       "    </tr>\n",
       "    <tr>\n",
       "      <th>8</th>\n",
       "      <td>SAN NICOLAS</td>\n",
       "      <td>694</td>\n",
       "    </tr>\n",
       "    <tr>\n",
       "      <th>9</th>\n",
       "      <td>RETIRO</td>\n",
       "      <td>605</td>\n",
       "    </tr>\n",
       "    <tr>\n",
       "      <th>10</th>\n",
       "      <td>VILLA URQUIZA</td>\n",
       "      <td>604</td>\n",
       "    </tr>\n",
       "    <tr>\n",
       "      <th>11</th>\n",
       "      <td>NUEZ</td>\n",
       "      <td>436</td>\n",
       "    </tr>\n",
       "    <tr>\n",
       "      <th>12</th>\n",
       "      <td>MONSERRAT</td>\n",
       "      <td>432</td>\n",
       "    </tr>\n",
       "    <tr>\n",
       "      <th>13</th>\n",
       "      <td>VILLA DEVOTO</td>\n",
       "      <td>357</td>\n",
       "    </tr>\n",
       "    <tr>\n",
       "      <th>14</th>\n",
       "      <td>PUERTO MADERO</td>\n",
       "      <td>345</td>\n",
       "    </tr>\n",
       "    <tr>\n",
       "      <th>15</th>\n",
       "      <td>LINIERS</td>\n",
       "      <td>342</td>\n",
       "    </tr>\n",
       "    <tr>\n",
       "      <th>16</th>\n",
       "      <td>SAAVEDRA</td>\n",
       "      <td>315</td>\n",
       "    </tr>\n",
       "    <tr>\n",
       "      <th>17</th>\n",
       "      <td>PARQUE CHACABUCO</td>\n",
       "      <td>300</td>\n",
       "    </tr>\n",
       "    <tr>\n",
       "      <th>18</th>\n",
       "      <td>COLEGIALES</td>\n",
       "      <td>284</td>\n",
       "    </tr>\n",
       "    <tr>\n",
       "      <th>19</th>\n",
       "      <td>CONSTITUCION</td>\n",
       "      <td>279</td>\n",
       "    </tr>\n",
       "    <tr>\n",
       "      <th>20</th>\n",
       "      <td>SAN TELMO</td>\n",
       "      <td>261</td>\n",
       "    </tr>\n",
       "    <tr>\n",
       "      <th>21</th>\n",
       "      <td>VILLA DEL PARQUE</td>\n",
       "      <td>245</td>\n",
       "    </tr>\n",
       "    <tr>\n",
       "      <th>22</th>\n",
       "      <td>BARRACAS</td>\n",
       "      <td>234</td>\n",
       "    </tr>\n",
       "    <tr>\n",
       "      <th>23</th>\n",
       "      <td>SAN CRISTOBAL</td>\n",
       "      <td>230</td>\n",
       "    </tr>\n",
       "    <tr>\n",
       "      <th>24</th>\n",
       "      <td>MATADEROS</td>\n",
       "      <td>217</td>\n",
       "    </tr>\n",
       "    <tr>\n",
       "      <th>25</th>\n",
       "      <td>VILLA LURO</td>\n",
       "      <td>212</td>\n",
       "    </tr>\n",
       "    <tr>\n",
       "      <th>26</th>\n",
       "      <td>FLORESTA</td>\n",
       "      <td>209</td>\n",
       "    </tr>\n",
       "    <tr>\n",
       "      <th>27</th>\n",
       "      <td>BOEDO</td>\n",
       "      <td>195</td>\n",
       "    </tr>\n",
       "    <tr>\n",
       "      <th>28</th>\n",
       "      <td>VILLA ORTUZAR</td>\n",
       "      <td>175</td>\n",
       "    </tr>\n",
       "    <tr>\n",
       "      <th>29</th>\n",
       "      <td>CHACARITA</td>\n",
       "      <td>174</td>\n",
       "    </tr>\n",
       "    <tr>\n",
       "      <th>30</th>\n",
       "      <td>MONTE CASTRO</td>\n",
       "      <td>160</td>\n",
       "    </tr>\n",
       "    <tr>\n",
       "      <th>31</th>\n",
       "      <td>PARQUE PATRICIOS</td>\n",
       "      <td>154</td>\n",
       "    </tr>\n",
       "    <tr>\n",
       "      <th>32</th>\n",
       "      <td>VILLA PUEYRREDON</td>\n",
       "      <td>152</td>\n",
       "    </tr>\n",
       "    <tr>\n",
       "      <th>33</th>\n",
       "      <td>VELEZ SARSFIELD</td>\n",
       "      <td>147</td>\n",
       "    </tr>\n",
       "    <tr>\n",
       "      <th>34</th>\n",
       "      <td>BOCA</td>\n",
       "      <td>146</td>\n",
       "    </tr>\n",
       "    <tr>\n",
       "      <th>35</th>\n",
       "      <td>COGHLAN</td>\n",
       "      <td>139</td>\n",
       "    </tr>\n",
       "    <tr>\n",
       "      <th>36</th>\n",
       "      <td>VILLA GRAL. MITRE</td>\n",
       "      <td>138</td>\n",
       "    </tr>\n",
       "    <tr>\n",
       "      <th>37</th>\n",
       "      <td>VILLA LUGANO</td>\n",
       "      <td>137</td>\n",
       "    </tr>\n",
       "    <tr>\n",
       "      <th>38</th>\n",
       "      <td>PARQUE AVELLANEDA</td>\n",
       "      <td>128</td>\n",
       "    </tr>\n",
       "    <tr>\n",
       "      <th>39</th>\n",
       "      <td>PATERNAL</td>\n",
       "      <td>116</td>\n",
       "    </tr>\n",
       "    <tr>\n",
       "      <th>40</th>\n",
       "      <td>VILLA SANTA RITA</td>\n",
       "      <td>105</td>\n",
       "    </tr>\n",
       "    <tr>\n",
       "      <th>41</th>\n",
       "      <td>NUEVA POMPEYA</td>\n",
       "      <td>103</td>\n",
       "    </tr>\n",
       "    <tr>\n",
       "      <th>42</th>\n",
       "      <td>PARQUE CHAS</td>\n",
       "      <td>95</td>\n",
       "    </tr>\n",
       "    <tr>\n",
       "      <th>43</th>\n",
       "      <td>VERSALLES</td>\n",
       "      <td>73</td>\n",
       "    </tr>\n",
       "    <tr>\n",
       "      <th>44</th>\n",
       "      <td>AGRONOMIA</td>\n",
       "      <td>67</td>\n",
       "    </tr>\n",
       "    <tr>\n",
       "      <th>45</th>\n",
       "      <td>VILLA REAL</td>\n",
       "      <td>52</td>\n",
       "    </tr>\n",
       "    <tr>\n",
       "      <th>46</th>\n",
       "      <td>VILLA RIACHUELO</td>\n",
       "      <td>26</td>\n",
       "    </tr>\n",
       "    <tr>\n",
       "      <th>47</th>\n",
       "      <td>VILLA SOLDATI</td>\n",
       "      <td>16</td>\n",
       "    </tr>\n",
       "  </tbody>\n",
       "</table>\n",
       "</div>"
      ],
      "text/plain": [
       "               barrio  total\n",
       "0             PALERMO   2424\n",
       "1            RECOLETA   1615\n",
       "2           CABALLITO   1251\n",
       "3            BELGRANO   1174\n",
       "4           BALVANERA   1068\n",
       "5              FLORES    841\n",
       "6             ALMAGRO    781\n",
       "7        VILLA CRESPO    726\n",
       "8         SAN NICOLAS    694\n",
       "9              RETIRO    605\n",
       "10      VILLA URQUIZA    604\n",
       "11               NUEZ    436\n",
       "12          MONSERRAT    432\n",
       "13       VILLA DEVOTO    357\n",
       "14      PUERTO MADERO    345\n",
       "15            LINIERS    342\n",
       "16           SAAVEDRA    315\n",
       "17   PARQUE CHACABUCO    300\n",
       "18         COLEGIALES    284\n",
       "19       CONSTITUCION    279\n",
       "20          SAN TELMO    261\n",
       "21   VILLA DEL PARQUE    245\n",
       "22           BARRACAS    234\n",
       "23      SAN CRISTOBAL    230\n",
       "24          MATADEROS    217\n",
       "25         VILLA LURO    212\n",
       "26           FLORESTA    209\n",
       "27              BOEDO    195\n",
       "28      VILLA ORTUZAR    175\n",
       "29          CHACARITA    174\n",
       "30       MONTE CASTRO    160\n",
       "31   PARQUE PATRICIOS    154\n",
       "32   VILLA PUEYRREDON    152\n",
       "33    VELEZ SARSFIELD    147\n",
       "34               BOCA    146\n",
       "35            COGHLAN    139\n",
       "36  VILLA GRAL. MITRE    138\n",
       "37       VILLA LUGANO    137\n",
       "38  PARQUE AVELLANEDA    128\n",
       "39           PATERNAL    116\n",
       "40   VILLA SANTA RITA    105\n",
       "41      NUEVA POMPEYA    103\n",
       "42        PARQUE CHAS     95\n",
       "43          VERSALLES     73\n",
       "44          AGRONOMIA     67\n",
       "45         VILLA REAL     52\n",
       "46    VILLA RIACHUELO     26\n",
       "47      VILLA SOLDATI     16"
      ]
     },
     "execution_count": 11,
     "metadata": {},
     "output_type": "execute_result"
    }
   ],
   "source": [
    "grouped_barrio"
   ]
  },
  {
   "cell_type": "markdown",
   "metadata": {},
   "source": [
    "Para no entorpecer el análisis, voy a eliminar aquellas instancias que se encuentren vacías en los campos:\n",
    "* price_aprox_usd\n",
    "* price_usd_per_m2\n",
    "* surface_total_in_m2\n",
    "* surface_covered_in_m2\n",
    "\n",
    "Por otro lado el campo rooms, voy a completarlo siguiendo la siguiente estrategia:\n",
    "* Voy a asignarle el promedio de rooms del dataset"
   ]
  },
  {
   "cell_type": "code",
   "execution_count": 12,
   "metadata": {},
   "outputs": [],
   "source": [
    "df_no_nan = df.fillna('')"
   ]
  },
  {
   "cell_type": "code",
   "execution_count": 13,
   "metadata": {},
   "outputs": [
    {
     "data": {
      "text/plain": [
       "15416"
      ]
     },
     "execution_count": 13,
     "metadata": {},
     "output_type": "execute_result"
    }
   ],
   "source": [
    "#Control de valores que me tienen que quedar despues de borrar los vacíos en las columnas mencionadas\n",
    "len(df)-len(df_no_nan[(df_no_nan['price_aprox_usd']== '') | (df_no_nan['price_usd_per_m2']== '') | (df_no_nan['surface_covered_in_m2']== '')| (df_no_nan['surface_total_in_m2']== '')])"
   ]
  },
  {
   "cell_type": "code",
   "execution_count": 14,
   "metadata": {},
   "outputs": [
    {
     "name": "stdout",
     "output_type": "stream",
     "text": [
      "(18979, 17)\n",
      "(15416, 17)\n"
     ]
    }
   ],
   "source": [
    "print(df.shape)\n",
    "df = df.dropna(axis = 0, subset=['price_aprox_usd','price_usd_per_m2','surface_covered_in_m2','surface_total_in_m2'])\n",
    "\n",
    "rooms_mean = {'rooms': df.rooms.mean()}\n",
    "df = df.fillna(value=rooms_mean).reset_index(drop=True)\n",
    "print(df.shape)"
   ]
  },
  {
   "cell_type": "markdown",
   "metadata": {},
   "source": [
    "## Revisión de features"
   ]
  },
  {
   "cell_type": "code",
   "execution_count": 15,
   "metadata": {},
   "outputs": [
    {
     "data": {
      "text/plain": [
       "operation\n",
       "sell    15416\n",
       "Name: operation, dtype: int64"
      ]
     },
     "execution_count": 15,
     "metadata": {},
     "output_type": "execute_result"
    }
   ],
   "source": [
    "df.groupby('operation')['operation'].count()"
   ]
  },
  {
   "cell_type": "code",
   "execution_count": 16,
   "metadata": {},
   "outputs": [],
   "source": [
    "df['Zona'] = df.place_with_parent_names.apply( lambda x : x.split('|')[2])"
   ]
  },
  {
   "cell_type": "code",
   "execution_count": 17,
   "metadata": {},
   "outputs": [
    {
     "data": {
      "text/plain": [
       "Zona\n",
       "Bs.As. G.B.A. Zona Norte       15\n",
       "Bs.As. G.B.A. Zona Oeste        7\n",
       "Bs.As. G.B.A. Zona Sur          1\n",
       "Capital Federal             15393\n",
       "Name: Zona, dtype: int64"
      ]
     },
     "execution_count": 17,
     "metadata": {},
     "output_type": "execute_result"
    }
   ],
   "source": [
    "df.groupby('Zona')['Zona'].count()"
   ]
  },
  {
   "cell_type": "markdown",
   "metadata": {},
   "source": [
    "Como la feature **operation** solo tiene un valor en todos sus registros, voy a eliminarla porque ya se que todos los registros corresponden a *sell*\n",
    "\n",
    "Por otro lado, voy a desestimar las features *place_with_parent_names* porque su desagregación (Pais|Zona|Barrio) no la voy a utilizar, como se que el pais es Argentina, la provincia Buenos Aires, solo extraigo la Zona. \n",
    "\n",
    "La feature **comuna** no me explica mucho en el README, por lo que no voy a considerarla para este análisis.\n",
    "\n",
    "Las features **lat-lon, lat y lon** no las voy a considerar en mi anaálisis.\n",
    "\n",
    "Las features *created_on* y *properati_url* no la voy a considerar, ya que no me interesa en este estudio saber este dato.\n",
    "\n",
    "La feature **floor** y **expenses** la voy a desestimar tambien ya que mas del 80% de sus valores están incompletos\n",
    "\n"
   ]
  },
  {
   "cell_type": "code",
   "execution_count": 18,
   "metadata": {},
   "outputs": [
    {
     "name": "stdout",
     "output_type": "stream",
     "text": [
      "(15416, 18)\n",
      "(15416, 8)\n"
     ]
    }
   ],
   "source": [
    "#Hago un print statment para verificar estar seguro que el dataset solo sufrió las mejoras que yo quiero.\n",
    "print(df.shape)\n",
    "df = df.drop(labels=['created_on','operation','place_with_parent_names',\n",
    "                     'properati_url','comuna','lat-lon','lat','lon', 'floor', 'expenses'], axis=1)\n",
    "print(df.shape)"
   ]
  },
  {
   "cell_type": "markdown",
   "metadata": {},
   "source": [
    "## Control de registros\n",
    "\n",
    "Antes de comenzar voy a verificar que la superficie cubierta no sea mayor que la superficie total (ya que sería una inconcistencia).\n",
    "\n",
    "En caso de encontrar una inconsistencia voy a asumir que el usuario cargo mal el dato en el formulario, y voy intercambiar ambos valores."
   ]
  },
  {
   "cell_type": "code",
   "execution_count": 19,
   "metadata": {},
   "outputs": [],
   "source": [
    "wrong_surface = df[df['surface_covered_in_m2'] > df['surface_total_in_m2']]"
   ]
  },
  {
   "cell_type": "code",
   "execution_count": 20,
   "metadata": {},
   "outputs": [
    {
     "name": "stdout",
     "output_type": "stream",
     "text": [
      "Existen 117 propiedades con esta inconsistencia\n"
     ]
    }
   ],
   "source": [
    "print('Existen {} propiedades con esta inconsistencia'.format(len(wrong_surface)))"
   ]
  },
  {
   "cell_type": "code",
   "execution_count": 21,
   "metadata": {},
   "outputs": [],
   "source": [
    "df.at[wrong_surface.index, 'surface_total_in_m2'] = wrong_surface.surface_covered_in_m2\n",
    "df.at[wrong_surface.index, 'surface_covered_in_m2'] = wrong_surface.surface_total_in_m2"
   ]
  },
  {
   "cell_type": "code",
   "execution_count": 22,
   "metadata": {},
   "outputs": [
    {
     "data": {
      "text/html": [
       "<div>\n",
       "<style scoped>\n",
       "    .dataframe tbody tr th:only-of-type {\n",
       "        vertical-align: middle;\n",
       "    }\n",
       "\n",
       "    .dataframe tbody tr th {\n",
       "        vertical-align: top;\n",
       "    }\n",
       "\n",
       "    .dataframe thead th {\n",
       "        text-align: right;\n",
       "    }\n",
       "</style>\n",
       "<table border=\"1\" class=\"dataframe\">\n",
       "  <thead>\n",
       "    <tr style=\"text-align: right;\">\n",
       "      <th></th>\n",
       "      <th>property_type</th>\n",
       "      <th>price_aprox_usd</th>\n",
       "      <th>surface_total_in_m2</th>\n",
       "      <th>surface_covered_in_m2</th>\n",
       "      <th>price_usd_per_m2</th>\n",
       "      <th>rooms</th>\n",
       "      <th>barrio</th>\n",
       "      <th>Zona</th>\n",
       "    </tr>\n",
       "  </thead>\n",
       "  <tbody>\n",
       "  </tbody>\n",
       "</table>\n",
       "</div>"
      ],
      "text/plain": [
       "Empty DataFrame\n",
       "Columns: [property_type, price_aprox_usd, surface_total_in_m2, surface_covered_in_m2, price_usd_per_m2, rooms, barrio, Zona]\n",
       "Index: []"
      ]
     },
     "execution_count": 22,
     "metadata": {},
     "output_type": "execute_result"
    }
   ],
   "source": [
    "#Hago un print statment para validar que el cambio se efectúo\n",
    "df[df['surface_covered_in_m2'] > df['surface_total_in_m2']]"
   ]
  },
  {
   "cell_type": "markdown",
   "metadata": {},
   "source": [
    "## Outliers"
   ]
  },
  {
   "cell_type": "code",
   "execution_count": 23,
   "metadata": {},
   "outputs": [
    {
     "data": {
      "text/plain": [
       "<matplotlib.axes._subplots.AxesSubplot at 0x7fe9a61160f0>"
      ]
     },
     "execution_count": 23,
     "metadata": {},
     "output_type": "execute_result"
    },
    {
     "data": {
      "image/png": "[encoded data removed]",
      "text/plain": [
       "<Figure size 864x432 with 1 Axes>"
      ]
     },
     "metadata": {
      "needs_background": "light"
     },
     "output_type": "display_data"
    }
   ],
   "source": [
    "sns.boxplot(df.price_aprox_usd)"
   ]
  },
  {
   "cell_type": "markdown",
   "metadata": {},
   "source": [
    "Voy a limpiar aquellos valores de la feature price_aprox_usd que esten por encima del percentil 90, ya que como se en el boxplot de arriba, son pocos los registros que se encuentran en ese rango de valores y pordrían llegar a afectar el posterior análisis."
   ]
  },
  {
   "cell_type": "code",
   "execution_count": 24,
   "metadata": {
    "scrolled": false
   },
   "outputs": [
    {
     "name": "stdout",
     "output_type": "stream",
     "text": [
      "15416\n",
      "14644\n"
     ]
    }
   ],
   "source": [
    "print(len(df))\n",
    "df = df[df['price_aprox_usd'] < df.price_aprox_usd.quantile(0.95)].reset_index(drop=True)\n",
    "print(len(df))"
   ]
  },
  {
   "cell_type": "code",
   "execution_count": 25,
   "metadata": {},
   "outputs": [
    {
     "data": {
      "text/plain": [
       "<matplotlib.axes._subplots.AxesSubplot at 0x7fe9a9c9c240>"
      ]
     },
     "execution_count": 25,
     "metadata": {},
     "output_type": "execute_result"
    },
    {
     "data": {
      "image/png": "[encoded data removed]",
      "text/plain": [
       "<Figure size 864x432 with 1 Axes>"
      ]
     },
     "metadata": {
      "needs_background": "light"
     },
     "output_type": "display_data"
    }
   ],
   "source": [
    "sns.boxplot(df.price_usd_per_m2)"
   ]
  },
  {
   "cell_type": "code",
   "execution_count": 26,
   "metadata": {},
   "outputs": [
    {
     "name": "stdout",
     "output_type": "stream",
     "text": [
      "14644\n",
      "13911\n"
     ]
    }
   ],
   "source": [
    "print(len(df))\n",
    "df = df[df['price_usd_per_m2'] < df.price_usd_per_m2.quantile(0.95)].sort_values(by='price_usd_per_m2', ascending = False)\n",
    "print(len(df))"
   ]
  },
  {
   "cell_type": "markdown",
   "metadata": {},
   "source": [
    "##  Barrios"
   ]
  },
  {
   "cell_type": "markdown",
   "metadata": {},
   "source": [
    "### Barrios con más edificios y barrios con más casas\n",
    "\n",
    "Al saber qué barrios son los que tienen más cantidad publicadas y cuáles son los que tienen más casas podemos darnos una idea de qué tipo de barrio es. Si es más residencial, con más población, poder adquisitivo, etc. \n",
    "Para eso voy a calcular los porcentajes de cada tipo de propiedad según el barrio."
   ]
  },
  {
   "cell_type": "code",
   "execution_count": 27,
   "metadata": {},
   "outputs": [],
   "source": [
    "total_propiedades = df.groupby('barrio')['property_type'].count()"
   ]
  },
  {
   "cell_type": "code",
   "execution_count": 28,
   "metadata": {},
   "outputs": [],
   "source": [
    "porcentaje_casas_ph = df[df.property_type.isin(['PH', 'house'])].groupby('barrio').count().property_type/total_propiedades\n",
    "porcentaje_edificios = df[df.property_type == 'apartment'].groupby('barrio').count().property_type/total_propiedades"
   ]
  },
  {
   "cell_type": "code",
   "execution_count": 29,
   "metadata": {},
   "outputs": [
    {
     "name": "stdout",
     "output_type": "stream",
     "text": [
      "Barrios con mayor porcentaje de edificios: \n",
      " barrio\n",
      "PUERTO MADERO    1.000000\n",
      "RECOLETA         0.968360\n",
      "BELGRANO         0.916364\n",
      "PALERMO          0.910559\n",
      "RETIRO           0.907731\n",
      "Name: property_type, dtype: float64\n",
      "\n",
      "Barrios con mayor porcentaje de casas y phs: \n",
      "  barrio\n",
      "PUERTO MADERO             NaN\n",
      "VILLA RIACHUELO      0.666667\n",
      "VERSALLES            0.660714\n",
      "MATADEROS            0.612069\n",
      "PARQUE AVELLANEDA    0.582418\n",
      "Name: property_type, dtype: float64\n"
     ]
    }
   ],
   "source": [
    "print(\"Barrios con mayor porcentaje de edificios: \\n\", porcentaje_edificios.sort_values()[::-1][:5])\n",
    "print(\"\\nBarrios con mayor porcentaje de casas y phs: \\n \", porcentaje_casas_ph.sort_values()[::-1][:5])"
   ]
  },
  {
   "cell_type": "markdown",
   "metadata": {},
   "source": [
    "### Barrios más caros y más baratos"
   ]
  },
  {
   "cell_type": "markdown",
   "metadata": {},
   "source": [
    "**Barrio con price_usd_per_m2 mas alto**"
   ]
  },
  {
   "cell_type": "code",
   "execution_count": 30,
   "metadata": {
    "scrolled": true
   },
   "outputs": [
    {
     "data": {
      "text/html": [
       "<div>\n",
       "<style scoped>\n",
       "    .dataframe tbody tr th:only-of-type {\n",
       "        vertical-align: middle;\n",
       "    }\n",
       "\n",
       "    .dataframe tbody tr th {\n",
       "        vertical-align: top;\n",
       "    }\n",
       "\n",
       "    .dataframe thead th {\n",
       "        text-align: right;\n",
       "    }\n",
       "</style>\n",
       "<table border=\"1\" class=\"dataframe\">\n",
       "  <thead>\n",
       "    <tr style=\"text-align: right;\">\n",
       "      <th></th>\n",
       "      <th>barrio</th>\n",
       "      <th>price_usd_per_m2</th>\n",
       "    </tr>\n",
       "  </thead>\n",
       "  <tbody>\n",
       "    <tr>\n",
       "      <th>0</th>\n",
       "      <td>PUERTO MADERO</td>\n",
       "      <td>3729.741830</td>\n",
       "    </tr>\n",
       "    <tr>\n",
       "      <th>1</th>\n",
       "      <td>PALERMO</td>\n",
       "      <td>3124.855689</td>\n",
       "    </tr>\n",
       "    <tr>\n",
       "      <th>2</th>\n",
       "      <td>RECOLETA</td>\n",
       "      <td>3016.923801</td>\n",
       "    </tr>\n",
       "    <tr>\n",
       "      <th>3</th>\n",
       "      <td>BELGRANO</td>\n",
       "      <td>2966.872027</td>\n",
       "    </tr>\n",
       "    <tr>\n",
       "      <th>4</th>\n",
       "      <td>RETIRO</td>\n",
       "      <td>2923.357237</td>\n",
       "    </tr>\n",
       "  </tbody>\n",
       "</table>\n",
       "</div>"
      ],
      "text/plain": [
       "          barrio  price_usd_per_m2\n",
       "0  PUERTO MADERO       3729.741830\n",
       "1        PALERMO       3124.855689\n",
       "2       RECOLETA       3016.923801\n",
       "3       BELGRANO       2966.872027\n",
       "4         RETIRO       2923.357237"
      ]
     },
     "execution_count": 30,
     "metadata": {},
     "output_type": "execute_result"
    }
   ],
   "source": [
    "df_barrio_filter = df.groupby(by=['barrio'])['price_usd_per_m2'].mean().reset_index(name='price_usd_per_m2').sort_values(by='price_usd_per_m2', ascending = False).reset_index(drop=True)\n",
    "df_barrio_filter.head(5)"
   ]
  },
  {
   "cell_type": "code",
   "execution_count": 31,
   "metadata": {
    "scrolled": false
   },
   "outputs": [
    {
     "data": {
      "image/png": "[encoded data removed]",
      "text/plain": [
       "<Figure size 864x432 with 1 Axes>"
      ]
     },
     "metadata": {
      "needs_background": "light"
     },
     "output_type": "display_data"
    }
   ],
   "source": [
    "plt.xlabel('Barrio')\n",
    "plt.ylabel('U$D/(m2)')\n",
    "plt.title('U$D/(m2) por Barrios caros')\n",
    "\n",
    "x_barrio_filter = df_barrio_filter.head(10)['barrio']\n",
    "y_barrio_filter = df_barrio_filter.head(10)['price_usd_per_m2']\n",
    "\n",
    "plt.xticks(rotation=60)\n",
    "plt.plot(x_barrio_filter, y_barrio_filter)\n",
    "plt.show();"
   ]
  },
  {
   "cell_type": "markdown",
   "metadata": {},
   "source": [
    "**Barrio con price_usd_per_m2 mas bajo**"
   ]
  },
  {
   "cell_type": "code",
   "execution_count": 32,
   "metadata": {},
   "outputs": [
    {
     "data": {
      "text/html": [
       "<div>\n",
       "<style scoped>\n",
       "    .dataframe tbody tr th:only-of-type {\n",
       "        vertical-align: middle;\n",
       "    }\n",
       "\n",
       "    .dataframe tbody tr th {\n",
       "        vertical-align: top;\n",
       "    }\n",
       "\n",
       "    .dataframe thead th {\n",
       "        text-align: right;\n",
       "    }\n",
       "</style>\n",
       "<table border=\"1\" class=\"dataframe\">\n",
       "  <thead>\n",
       "    <tr style=\"text-align: right;\">\n",
       "      <th></th>\n",
       "      <th>barrio</th>\n",
       "      <th>price_usd_per_m2</th>\n",
       "    </tr>\n",
       "  </thead>\n",
       "  <tbody>\n",
       "    <tr>\n",
       "      <th>38</th>\n",
       "      <td>VERSALLES</td>\n",
       "      <td>1765.312584</td>\n",
       "    </tr>\n",
       "    <tr>\n",
       "      <th>39</th>\n",
       "      <td>FLORESTA</td>\n",
       "      <td>1762.921383</td>\n",
       "    </tr>\n",
       "    <tr>\n",
       "      <th>40</th>\n",
       "      <td>PARQUE PATRICIOS</td>\n",
       "      <td>1750.314633</td>\n",
       "    </tr>\n",
       "    <tr>\n",
       "      <th>41</th>\n",
       "      <td>BOCA</td>\n",
       "      <td>1714.492008</td>\n",
       "    </tr>\n",
       "    <tr>\n",
       "      <th>42</th>\n",
       "      <td>MATADEROS</td>\n",
       "      <td>1506.859641</td>\n",
       "    </tr>\n",
       "    <tr>\n",
       "      <th>43</th>\n",
       "      <td>NUEVA POMPEYA</td>\n",
       "      <td>1441.885895</td>\n",
       "    </tr>\n",
       "    <tr>\n",
       "      <th>44</th>\n",
       "      <td>PARQUE AVELLANEDA</td>\n",
       "      <td>1399.883598</td>\n",
       "    </tr>\n",
       "    <tr>\n",
       "      <th>45</th>\n",
       "      <td>VILLA RIACHUELO</td>\n",
       "      <td>1318.280365</td>\n",
       "    </tr>\n",
       "    <tr>\n",
       "      <th>46</th>\n",
       "      <td>VILLA LUGANO</td>\n",
       "      <td>1192.267249</td>\n",
       "    </tr>\n",
       "    <tr>\n",
       "      <th>47</th>\n",
       "      <td>VILLA SOLDATI</td>\n",
       "      <td>920.825753</td>\n",
       "    </tr>\n",
       "  </tbody>\n",
       "</table>\n",
       "</div>"
      ],
      "text/plain": [
       "               barrio  price_usd_per_m2\n",
       "38          VERSALLES       1765.312584\n",
       "39           FLORESTA       1762.921383\n",
       "40   PARQUE PATRICIOS       1750.314633\n",
       "41               BOCA       1714.492008\n",
       "42          MATADEROS       1506.859641\n",
       "43      NUEVA POMPEYA       1441.885895\n",
       "44  PARQUE AVELLANEDA       1399.883598\n",
       "45    VILLA RIACHUELO       1318.280365\n",
       "46       VILLA LUGANO       1192.267249\n",
       "47      VILLA SOLDATI        920.825753"
      ]
     },
     "execution_count": 32,
     "metadata": {},
     "output_type": "execute_result"
    }
   ],
   "source": [
    "df_barrio_filter.tail(10)"
   ]
  },
  {
   "cell_type": "code",
   "execution_count": 33,
   "metadata": {},
   "outputs": [
    {
     "data": {
      "image/png": "[encoded data removed]",
      "text/plain": [
       "<Figure size 864x432 with 1 Axes>"
      ]
     },
     "metadata": {
      "needs_background": "light"
     },
     "output_type": "display_data"
    }
   ],
   "source": [
    "plt.xlabel('Barrio')\n",
    "plt.ylabel('U$D/(m2)')\n",
    "plt.title('U$D/(m2) por Barrios baratos')\n",
    "\n",
    "x_barrio_filter = df_barrio_filter.tail(10)['barrio']\n",
    "y_barrio_filter = df_barrio_filter.tail(10)['price_usd_per_m2']\n",
    "\n",
    "plt.xticks(rotation=60)\n",
    "plt.plot(x_barrio_filter, y_barrio_filter)\n",
    "plt.show();"
   ]
  },
  {
   "cell_type": "markdown",
   "metadata": {},
   "source": [
    "## Graficando propiedades de los barrios\n",
    "\n",
    "Ahora que ya sabemos cuales son los barrios más caros y cuales son los más baratos vamos a ver algunas comparaciones gráficas para entender mejor sus diferencias en diferentes atributos del dataset. Vamos a ver las distribuciones según:\n",
    "- Superficie total en m2\n",
    "- Cuartos totales \n",
    "- Precio en dolares por m2"
   ]
  },
  {
   "cell_type": "code",
   "execution_count": 34,
   "metadata": {},
   "outputs": [],
   "source": [
    "barrios_caros = df_barrio_filter.head(10)\n",
    "barrios_baratos = df_barrio_filter.tail(10)"
   ]
  },
  {
   "cell_type": "code",
   "execution_count": 35,
   "metadata": {},
   "outputs": [
    {
     "data": {
      "text/html": [
       "<div>\n",
       "<style scoped>\n",
       "    .dataframe tbody tr th:only-of-type {\n",
       "        vertical-align: middle;\n",
       "    }\n",
       "\n",
       "    .dataframe tbody tr th {\n",
       "        vertical-align: top;\n",
       "    }\n",
       "\n",
       "    .dataframe thead th {\n",
       "        text-align: right;\n",
       "    }\n",
       "</style>\n",
       "<table border=\"1\" class=\"dataframe\">\n",
       "  <thead>\n",
       "    <tr style=\"text-align: right;\">\n",
       "      <th></th>\n",
       "      <th>barrio</th>\n",
       "      <th>price_usd_per_m2</th>\n",
       "    </tr>\n",
       "  </thead>\n",
       "  <tbody>\n",
       "    <tr>\n",
       "      <th>0</th>\n",
       "      <td>PUERTO MADERO</td>\n",
       "      <td>3729.741830</td>\n",
       "    </tr>\n",
       "    <tr>\n",
       "      <th>1</th>\n",
       "      <td>PALERMO</td>\n",
       "      <td>3124.855689</td>\n",
       "    </tr>\n",
       "    <tr>\n",
       "      <th>2</th>\n",
       "      <td>RECOLETA</td>\n",
       "      <td>3016.923801</td>\n",
       "    </tr>\n",
       "    <tr>\n",
       "      <th>3</th>\n",
       "      <td>BELGRANO</td>\n",
       "      <td>2966.872027</td>\n",
       "    </tr>\n",
       "    <tr>\n",
       "      <th>4</th>\n",
       "      <td>RETIRO</td>\n",
       "      <td>2923.357237</td>\n",
       "    </tr>\n",
       "    <tr>\n",
       "      <th>5</th>\n",
       "      <td>NUEZ</td>\n",
       "      <td>2900.637334</td>\n",
       "    </tr>\n",
       "    <tr>\n",
       "      <th>6</th>\n",
       "      <td>COLEGIALES</td>\n",
       "      <td>2802.811419</td>\n",
       "    </tr>\n",
       "    <tr>\n",
       "      <th>7</th>\n",
       "      <td>VILLA URQUIZA</td>\n",
       "      <td>2670.943622</td>\n",
       "    </tr>\n",
       "    <tr>\n",
       "      <th>8</th>\n",
       "      <td>COGHLAN</td>\n",
       "      <td>2578.367407</td>\n",
       "    </tr>\n",
       "    <tr>\n",
       "      <th>9</th>\n",
       "      <td>CABALLITO</td>\n",
       "      <td>2513.239232</td>\n",
       "    </tr>\n",
       "  </tbody>\n",
       "</table>\n",
       "</div>"
      ],
      "text/plain": [
       "          barrio  price_usd_per_m2\n",
       "0  PUERTO MADERO       3729.741830\n",
       "1        PALERMO       3124.855689\n",
       "2       RECOLETA       3016.923801\n",
       "3       BELGRANO       2966.872027\n",
       "4         RETIRO       2923.357237\n",
       "5           NUEZ       2900.637334\n",
       "6     COLEGIALES       2802.811419\n",
       "7  VILLA URQUIZA       2670.943622\n",
       "8        COGHLAN       2578.367407\n",
       "9      CABALLITO       2513.239232"
      ]
     },
     "execution_count": 35,
     "metadata": {},
     "output_type": "execute_result"
    }
   ],
   "source": [
    "barrios_caros"
   ]
  },
  {
   "cell_type": "code",
   "execution_count": 36,
   "metadata": {
    "scrolled": true
   },
   "outputs": [],
   "source": [
    "x_price_usd_per_m2_barrio_caro = df[(df['barrio'] == 'PUERTO MADERO') | (df['barrio'] == 'PALERMO')| (df['barrio'] == 'RETIRO')|\n",
    "   (df['barrio'] == 'RECOLETA')| (df['barrio'] == 'BELGRANO')| (df['barrio'] == 'NUEZ')| (df['barrio'] == 'COLEGIALES')\n",
    "                                    | (df['barrio'] == 'VILLA URQUIZA')| (df['barrio'] == 'COGHLAN')| (df['barrio'] == 'VILLA CRESPO')].price_usd_per_m2"
   ]
  },
  {
   "cell_type": "code",
   "execution_count": 37,
   "metadata": {},
   "outputs": [
    {
     "data": {
      "image/png": "[encoded data removed]",
      "text/plain": [
       "<Figure size 864x432 with 1 Axes>"
      ]
     },
     "metadata": {
      "needs_background": "light"
     },
     "output_type": "display_data"
    }
   ],
   "source": [
    "plt.title('Distribución del price_usd_per_m2 en los barrios caros')\n",
    "sns.distplot(x_price_usd_per_m2_barrio_caro, label=\"Barrios caros\")\n",
    "plt.legend();"
   ]
  },
  {
   "cell_type": "code",
   "execution_count": 38,
   "metadata": {},
   "outputs": [
    {
     "data": {
      "text/html": [
       "<div>\n",
       "<style scoped>\n",
       "    .dataframe tbody tr th:only-of-type {\n",
       "        vertical-align: middle;\n",
       "    }\n",
       "\n",
       "    .dataframe tbody tr th {\n",
       "        vertical-align: top;\n",
       "    }\n",
       "\n",
       "    .dataframe thead th {\n",
       "        text-align: right;\n",
       "    }\n",
       "</style>\n",
       "<table border=\"1\" class=\"dataframe\">\n",
       "  <thead>\n",
       "    <tr style=\"text-align: right;\">\n",
       "      <th></th>\n",
       "      <th>barrio</th>\n",
       "      <th>price_usd_per_m2</th>\n",
       "    </tr>\n",
       "  </thead>\n",
       "  <tbody>\n",
       "    <tr>\n",
       "      <th>38</th>\n",
       "      <td>VERSALLES</td>\n",
       "      <td>1765.312584</td>\n",
       "    </tr>\n",
       "    <tr>\n",
       "      <th>39</th>\n",
       "      <td>FLORESTA</td>\n",
       "      <td>1762.921383</td>\n",
       "    </tr>\n",
       "    <tr>\n",
       "      <th>40</th>\n",
       "      <td>PARQUE PATRICIOS</td>\n",
       "      <td>1750.314633</td>\n",
       "    </tr>\n",
       "    <tr>\n",
       "      <th>41</th>\n",
       "      <td>BOCA</td>\n",
       "      <td>1714.492008</td>\n",
       "    </tr>\n",
       "    <tr>\n",
       "      <th>42</th>\n",
       "      <td>MATADEROS</td>\n",
       "      <td>1506.859641</td>\n",
       "    </tr>\n",
       "    <tr>\n",
       "      <th>43</th>\n",
       "      <td>NUEVA POMPEYA</td>\n",
       "      <td>1441.885895</td>\n",
       "    </tr>\n",
       "    <tr>\n",
       "      <th>44</th>\n",
       "      <td>PARQUE AVELLANEDA</td>\n",
       "      <td>1399.883598</td>\n",
       "    </tr>\n",
       "    <tr>\n",
       "      <th>45</th>\n",
       "      <td>VILLA RIACHUELO</td>\n",
       "      <td>1318.280365</td>\n",
       "    </tr>\n",
       "    <tr>\n",
       "      <th>46</th>\n",
       "      <td>VILLA LUGANO</td>\n",
       "      <td>1192.267249</td>\n",
       "    </tr>\n",
       "    <tr>\n",
       "      <th>47</th>\n",
       "      <td>VILLA SOLDATI</td>\n",
       "      <td>920.825753</td>\n",
       "    </tr>\n",
       "  </tbody>\n",
       "</table>\n",
       "</div>"
      ],
      "text/plain": [
       "               barrio  price_usd_per_m2\n",
       "38          VERSALLES       1765.312584\n",
       "39           FLORESTA       1762.921383\n",
       "40   PARQUE PATRICIOS       1750.314633\n",
       "41               BOCA       1714.492008\n",
       "42          MATADEROS       1506.859641\n",
       "43      NUEVA POMPEYA       1441.885895\n",
       "44  PARQUE AVELLANEDA       1399.883598\n",
       "45    VILLA RIACHUELO       1318.280365\n",
       "46       VILLA LUGANO       1192.267249\n",
       "47      VILLA SOLDATI        920.825753"
      ]
     },
     "execution_count": 38,
     "metadata": {},
     "output_type": "execute_result"
    }
   ],
   "source": [
    "barrios_baratos"
   ]
  },
  {
   "cell_type": "code",
   "execution_count": 39,
   "metadata": {},
   "outputs": [],
   "source": [
    "x_price_usd_per_m2_barrio_barato = df[(df['barrio'] == 'VELEZ SARSFIELD') | (df['barrio'] == 'VERSALLES')| (df['barrio'] == 'PARQUE PATRICIOS')|\n",
    "   (df['barrio'] == 'BOCA')| (df['barrio'] == 'NUEVA POMPEYA')| (df['barrio'] == 'MATADEROS')| (df['barrio'] == 'PARQUE AVELLANEDA')\n",
    "                                    | (df['barrio'] == 'VILLA RIACHUELO')| (df['barrio'] == 'VILLA LUGANO')| (df['barrio'] == 'VILLA SOLDATI')].price_usd_per_m2"
   ]
  },
  {
   "cell_type": "code",
   "execution_count": 40,
   "metadata": {},
   "outputs": [
    {
     "data": {
      "image/png": "[encoded data removed]",
      "text/plain": [
       "<Figure size 864x432 with 1 Axes>"
      ]
     },
     "metadata": {
      "needs_background": "light"
     },
     "output_type": "display_data"
    }
   ],
   "source": [
    "plt.title('Distribución del price_usd_per_m2 en los barrios baratos')\n",
    "sns.distplot(x_price_usd_per_m2_barrio_barato, label=\"Barrios baratos\" )\n",
    "plt.legend();"
   ]
  },
  {
   "cell_type": "markdown",
   "metadata": {},
   "source": [
    "## Conclusiones\n",
    "\n",
    "1. En lo contrario de lo que se podría pensar, la cantidad de m2 cubiertos o totales, no tiene una relación directa con el precio de las propiedades, es mas, la propiedad mas valiosa es una casa de 750 m2 valuada en 12.000.000 USD.\n",
    "\n",
    "\n",
    "2. La variable que mas impacto tiene sobre el precio de la vivienda es el barrio (por ejemplo: Palermo, puerto madero recoleta, son zonas que si bien sus departamentos o casa no son los mas grándes o tienen los mayores m2 (cubiertos o totales), esos barrios hacen que sean propiedades valiosas.\n",
    "\n",
    "\n",
    "3. La distribución de precios en los barrios caros o báratos no se debe a outliers, sino más bien a que todas las propiedades de la zona tienen valores aproximados entre sí (tanto en los barrios baratos como en los barrios caros)\n",
    "\n",
    "\n",
    "4. Se pudo detectar varias inconsistencias en los datos, como que propiedades tengan mas m2 cubiertos que m2 totales o que los apartments tengan diferentes valores entre superficies cubiertas y cuperficies totales\n",
    "\n",
    "\n"
   ]
  },
  {
   "cell_type": "markdown",
   "metadata": {},
   "source": [
    "### Preguntas extra\n",
    "\n",
    "1. Barrio que tiene la propiedad mas cara\n",
    "2. Barrio que tiene el m2 mas caro (surface_total_in_m2)\n",
    "3. Barrio que contenga la mayor cantidad de stores\n",
    "4. El promedio de habitaciones que tienen los apartment el barrio mas popular del dataset\n"
   ]
  },
  {
   "cell_type": "code",
   "execution_count": 41,
   "metadata": {},
   "outputs": [
    {
     "name": "stdout",
     "output_type": "stream",
     "text": [
      "1. El barrio que tiene la propiedad mas cara\n"
     ]
    },
    {
     "data": {
      "text/plain": [
       "11030    VILLA DEVOTO\n",
       "Name: barrio, dtype: object"
      ]
     },
     "execution_count": 41,
     "metadata": {},
     "output_type": "execute_result"
    }
   ],
   "source": [
    "print('1. El barrio que tiene la propiedad mas cara')\n",
    "df.sort_values(by='price_aprox_usd', ascending = False).head(1)['barrio']\n"
   ]
  },
  {
   "cell_type": "code",
   "execution_count": 42,
   "metadata": {},
   "outputs": [
    {
     "name": "stdout",
     "output_type": "stream",
     "text": [
      "2. Barrio que tiene el m2 mas caro\n"
     ]
    },
    {
     "data": {
      "text/plain": [
       "8368    PARQUE CHACABUCO\n",
       "Name: barrio, dtype: object"
      ]
     },
     "execution_count": 42,
     "metadata": {},
     "output_type": "execute_result"
    }
   ],
   "source": [
    "print('2. Barrio que tiene el m2 mas caro')\n",
    "df.sort_values(by='surface_total_in_m2', ascending = False).head(1)['barrio']"
   ]
  },
  {
   "cell_type": "code",
   "execution_count": 43,
   "metadata": {
    "scrolled": true
   },
   "outputs": [],
   "source": [
    "df_store = pd.DataFrame(df[df['property_type'] =='store'].groupby(by=['barrio'])['barrio'].size().reset_index(name='total'))\n",
    "df_store = df_store.sort_values(by='total', ascending = False).reset_index(drop=True)"
   ]
  },
  {
   "cell_type": "code",
   "execution_count": 44,
   "metadata": {
    "scrolled": true
   },
   "outputs": [
    {
     "name": "stdout",
     "output_type": "stream",
     "text": [
      "Barrio que contenga la mayor cantidad de stores\n"
     ]
    },
    {
     "data": {
      "text/plain": [
       "'SAN NICOLAS'"
      ]
     },
     "execution_count": 44,
     "metadata": {},
     "output_type": "execute_result"
    }
   ],
   "source": [
    "print('Barrio que contenga la mayor cantidad de stores')\n",
    "df_store.loc[0,'barrio']"
   ]
  },
  {
   "cell_type": "code",
   "execution_count": 45,
   "metadata": {},
   "outputs": [
    {
     "data": {
      "text/plain": [
       "2.8040365881845046"
      ]
     },
     "execution_count": 45,
     "metadata": {},
     "output_type": "execute_result"
    }
   ],
   "source": [
    "#El promedio de habitaciones que tienen los apartment el barrio mas popular del dataset\n",
    "#El barrio mas popular dle dataset lo vimos mas arriba\n",
    "\n",
    "df_apartment = df[(df['property_type']=='apartment') & (df['barrio']=='PALERMO')]\n",
    "df_apartment.rooms.mean()"
   ]
  },
  {
   "cell_type": "markdown",
   "metadata": {},
   "source": [
    "## ML\n",
    "\n",
    "Voy a mostrar como funcionan dos modelos de clasificacion y voy a terminar exportando el que mejor rendimiento tenga.\n",
    "\n",
    "**Feature a predecir:** barrio\n",
    "\n",
    "**Features utilizadas:** 'price_aprox_usd', 'surface_covered_in_m2', 'rooms' y 'label_property_type'"
   ]
  },
  {
   "cell_type": "code",
   "execution_count": 46,
   "metadata": {},
   "outputs": [],
   "source": [
    "from sklearn.model_selection import train_test_split\n",
    "from sklearn.neighbors import KNeighborsClassifier\n",
    "\n",
    "from sklearn.tree import DecisionTreeClassifier\n",
    "from sklearn.model_selection import cross_val_score\n",
    "\n",
    "from sklearn.metrics import confusion_matrix\n",
    "from sklearn.metrics import accuracy_score\n",
    "from sklearn.metrics import classification_report"
   ]
  },
  {
   "cell_type": "markdown",
   "metadata": {},
   "source": [
    "Voy a crear un nuevo target llamado \"tipo_de_barrio\" que voy a utilizar para hacer predicciones.\n",
    "Va a ser una division entre 3 tipos de barrio dependiendo de su posición en la columna'price_usd_per_m2':\n",
    "* Barrio caro\n",
    "* Barrio medio\n",
    "* Barrio barato"
   ]
  },
  {
   "cell_type": "code",
   "execution_count": 47,
   "metadata": {
    "scrolled": true
   },
   "outputs": [],
   "source": [
    "ml_barrio_caro = list(df_barrio_filter[:15].barrio)\n",
    "ml_barrio_medio = list(df_barrio_filter[15:31].barrio)\n",
    "ml_barrio_barato = list(df_barrio_filter[31:].barrio)"
   ]
  },
  {
   "cell_type": "code",
   "execution_count": 48,
   "metadata": {},
   "outputs": [],
   "source": [
    "df = df.reset_index(drop=True)\n",
    "for r in range(len(df)):\n",
    "    \n",
    "    df.loc[r,'tipo_de_barrio'] = 1 if df.loc[r,'barrio'] in ml_barrio_caro else 2 if df.loc[r,'barrio'] in ml_barrio_medio else 3\n",
    "    \n",
    "    if df.loc[r,'property_type'] =='apartment':\n",
    "        df.loc[r,'label_property_type'] = 0 \n",
    "    \n",
    "    elif df.loc[r,'property_type'] =='PH':\n",
    "        df.loc[r,'label_property_type'] = 1\n",
    "    \n",
    "    elif df.loc[r,'property_type'] =='house':\n",
    "        df.loc[r,'label_property_type'] = 2\n",
    "        \n",
    "    else:\n",
    "        df.loc[r,'label_property_type'] = 3\n",
    "        \n",
    "    \n",
    "    "
   ]
  },
  {
   "cell_type": "code",
   "execution_count": 49,
   "metadata": {},
   "outputs": [
    {
     "data": {
      "text/html": [
       "<div>\n",
       "<style scoped>\n",
       "    .dataframe tbody tr th:only-of-type {\n",
       "        vertical-align: middle;\n",
       "    }\n",
       "\n",
       "    .dataframe tbody tr th {\n",
       "        vertical-align: top;\n",
       "    }\n",
       "\n",
       "    .dataframe thead th {\n",
       "        text-align: right;\n",
       "    }\n",
       "</style>\n",
       "<table border=\"1\" class=\"dataframe\">\n",
       "  <thead>\n",
       "    <tr style=\"text-align: right;\">\n",
       "      <th></th>\n",
       "      <th>property_type</th>\n",
       "      <th>price_aprox_usd</th>\n",
       "      <th>surface_total_in_m2</th>\n",
       "      <th>surface_covered_in_m2</th>\n",
       "      <th>price_usd_per_m2</th>\n",
       "      <th>rooms</th>\n",
       "      <th>barrio</th>\n",
       "      <th>Zona</th>\n",
       "      <th>tipo_de_barrio</th>\n",
       "      <th>label_property_type</th>\n",
       "    </tr>\n",
       "  </thead>\n",
       "  <tbody>\n",
       "    <tr>\n",
       "      <th>0</th>\n",
       "      <td>apartment</td>\n",
       "      <td>340000.0</td>\n",
       "      <td>76.0</td>\n",
       "      <td>67.0</td>\n",
       "      <td>4473.684211</td>\n",
       "      <td>3.000000</td>\n",
       "      <td>NUEZ</td>\n",
       "      <td>Capital Federal</td>\n",
       "      <td>1.0</td>\n",
       "      <td>0.0</td>\n",
       "    </tr>\n",
       "    <tr>\n",
       "      <th>1</th>\n",
       "      <td>apartment</td>\n",
       "      <td>340000.0</td>\n",
       "      <td>76.0</td>\n",
       "      <td>71.0</td>\n",
       "      <td>4473.684211</td>\n",
       "      <td>3.035078</td>\n",
       "      <td>PALERMO</td>\n",
       "      <td>Capital Federal</td>\n",
       "      <td>1.0</td>\n",
       "      <td>0.0</td>\n",
       "    </tr>\n",
       "    <tr>\n",
       "      <th>2</th>\n",
       "      <td>apartment</td>\n",
       "      <td>295000.0</td>\n",
       "      <td>66.0</td>\n",
       "      <td>66.0</td>\n",
       "      <td>4469.696970</td>\n",
       "      <td>2.000000</td>\n",
       "      <td>BELGRANO</td>\n",
       "      <td>Capital Federal</td>\n",
       "      <td>1.0</td>\n",
       "      <td>0.0</td>\n",
       "    </tr>\n",
       "    <tr>\n",
       "      <th>3</th>\n",
       "      <td>apartment</td>\n",
       "      <td>210000.0</td>\n",
       "      <td>47.0</td>\n",
       "      <td>36.0</td>\n",
       "      <td>4468.085106</td>\n",
       "      <td>1.000000</td>\n",
       "      <td>PALERMO</td>\n",
       "      <td>Capital Federal</td>\n",
       "      <td>1.0</td>\n",
       "      <td>0.0</td>\n",
       "    </tr>\n",
       "    <tr>\n",
       "      <th>4</th>\n",
       "      <td>apartment</td>\n",
       "      <td>375000.0</td>\n",
       "      <td>84.0</td>\n",
       "      <td>76.0</td>\n",
       "      <td>4464.285714</td>\n",
       "      <td>3.000000</td>\n",
       "      <td>RECOLETA</td>\n",
       "      <td>Capital Federal</td>\n",
       "      <td>1.0</td>\n",
       "      <td>0.0</td>\n",
       "    </tr>\n",
       "  </tbody>\n",
       "</table>\n",
       "</div>"
      ],
      "text/plain": [
       "  property_type  price_aprox_usd  surface_total_in_m2  surface_covered_in_m2  \\\n",
       "0     apartment         340000.0                 76.0                   67.0   \n",
       "1     apartment         340000.0                 76.0                   71.0   \n",
       "2     apartment         295000.0                 66.0                   66.0   \n",
       "3     apartment         210000.0                 47.0                   36.0   \n",
       "4     apartment         375000.0                 84.0                   76.0   \n",
       "\n",
       "   price_usd_per_m2     rooms    barrio             Zona  tipo_de_barrio  \\\n",
       "0       4473.684211  3.000000      NUEZ  Capital Federal             1.0   \n",
       "1       4473.684211  3.035078   PALERMO  Capital Federal             1.0   \n",
       "2       4469.696970  2.000000  BELGRANO  Capital Federal             1.0   \n",
       "3       4468.085106  1.000000   PALERMO  Capital Federal             1.0   \n",
       "4       4464.285714  3.000000  RECOLETA  Capital Federal             1.0   \n",
       "\n",
       "   label_property_type  \n",
       "0                  0.0  \n",
       "1                  0.0  \n",
       "2                  0.0  \n",
       "3                  0.0  \n",
       "4                  0.0  "
      ]
     },
     "execution_count": 49,
     "metadata": {},
     "output_type": "execute_result"
    }
   ],
   "source": [
    "df.head()"
   ]
  },
  {
   "cell_type": "code",
   "execution_count": 50,
   "metadata": {},
   "outputs": [],
   "source": [
    "X = df.drop(labels=['property_type','barrio','surface_total_in_m2','price_usd_per_m2','Zona','tipo_de_barrio'], axis=1).reset_index(drop= True)\n",
    "y = df['tipo_de_barrio'].reset_index(drop= True)\n",
    "X_train , X_test, y_train , y_test = train_test_split(X,y, test_size=0.25)"
   ]
  },
  {
   "cell_type": "markdown",
   "metadata": {},
   "source": [
    "## KNN"
   ]
  },
  {
   "cell_type": "code",
   "execution_count": 51,
   "metadata": {},
   "outputs": [],
   "source": [
    "best_score = 0\n",
    "best_params = []\n",
    "scores_plot = []\n",
    "for n in range(1,11):\n",
    "    knn = KNeighborsClassifier(n_neighbors = n)\n",
    "    knn.fit(X_train,y_train)\n",
    "    score = knn.score(X_test,y_test)\n",
    "    \n",
    "    scores_plot.append({'Neighbors': n,\n",
    "                       'score':score})\n",
    "    \n",
    "    if score > best_score:\n",
    "        \n",
    "        best_score=score\n",
    "        best_params = knn.get_params\n",
    "    else:\n",
    "        pass"
   ]
  },
  {
   "cell_type": "code",
   "execution_count": 52,
   "metadata": {},
   "outputs": [
    {
     "name": "stdout",
     "output_type": "stream",
     "text": [
      "El modelo KNN obtiene un Accuracy de 0.635 cuando K es igual a 10\n"
     ]
    }
   ],
   "source": [
    "print('El modelo KNN obtiene un Accuracy de {} cuando K es igual a {}'.format(round(best_score,3),best_params().get('n_neighbors')))"
   ]
  },
  {
   "cell_type": "code",
   "execution_count": 53,
   "metadata": {},
   "outputs": [
    {
     "data": {
      "image/png": "[encoded data removed]",
      "text/plain": [
       "<Figure size 864x432 with 1 Axes>"
      ]
     },
     "metadata": {
      "needs_background": "light"
     },
     "output_type": "display_data"
    }
   ],
   "source": [
    "plt.xlabel('K')\n",
    "plt.ylabel('Acc')\n",
    "plt.title('Accuracy vs K')\n",
    "plt.plot(pd.DataFrame(scores_plot).Neighbors, pd.DataFrame(scores_plot).score);"
   ]
  },
  {
   "cell_type": "code",
   "execution_count": 54,
   "metadata": {},
   "outputs": [
    {
     "name": "stdout",
     "output_type": "stream",
     "text": [
      "[[1729  242   12]\n",
      " [ 610  432   39]\n",
      " [ 182  183   49]]\n",
      "              precision    recall  f1-score   support\n",
      "\n",
      "         1.0       0.69      0.87      0.77      1983\n",
      "         2.0       0.50      0.40      0.45      1081\n",
      "         3.0       0.49      0.12      0.19       414\n",
      "\n",
      "    accuracy                           0.64      3478\n",
      "   macro avg       0.56      0.46      0.47      3478\n",
      "weighted avg       0.61      0.64      0.60      3478\n",
      "\n"
     ]
    }
   ],
   "source": [
    "pred = knn.predict(X_test)\n",
    "print(confusion_matrix(y_test, pred))\n",
    "print(classification_report(y_test, pred))"
   ]
  },
  {
   "cell_type": "markdown",
   "metadata": {},
   "source": [
    "## Como leo este resultado?\n",
    "\n",
    "Para el tipo_de_barrio = 1, este modelo tiene la precision más alta vs el resto de los modelos. Es decir, que es bueno detectando cuando los dptos que corresponden a los barrios, caros, no así a los otros valores de la varible a predecir\n",
    "\n",
    "## Predicción de prueba"
   ]
  },
  {
   "cell_type": "code",
   "execution_count": 55,
   "metadata": {
    "scrolled": true
   },
   "outputs": [
    {
     "data": {
      "text/plain": [
       "property_type                  apartment\n",
       "price_aprox_usd                   250000\n",
       "surface_total_in_m2                   62\n",
       "surface_covered_in_m2                 46\n",
       "price_usd_per_m2                 4032.26\n",
       "rooms                                  1\n",
       "barrio                          RECOLETA\n",
       "Zona                     Capital Federal\n",
       "tipo_de_barrio                         1\n",
       "label_property_type                    0\n",
       "Name: 392, dtype: object"
      ]
     },
     "execution_count": 55,
     "metadata": {},
     "output_type": "execute_result"
    }
   ],
   "source": [
    "df.loc[392]"
   ]
  },
  {
   "cell_type": "code",
   "execution_count": 56,
   "metadata": {
    "scrolled": true
   },
   "outputs": [
    {
     "name": "stdout",
     "output_type": "stream",
     "text": [
      "Según los datos ingresados el barrio al cual corresponde es el tipo 1.0\n"
     ]
    }
   ],
   "source": [
    "knn_price_aprox_usd = 250000\n",
    "knn_surface_covered_in_m2 = 46\n",
    "knn_rooms = 1\n",
    "knn_label_property_type = 0\n",
    "\n",
    "\n",
    "y_pred = knn.predict([[knn_price_aprox_usd,\n",
    "                       knn_surface_covered_in_m2,\n",
    "                       knn_rooms,\n",
    "                       knn_label_property_type]])\n",
    "print('Según los datos ingresados el barrio al cual corresponde es el tipo {}'.format(y_pred[0]))"
   ]
  },
  {
   "cell_type": "code",
   "execution_count": null,
   "metadata": {},
   "outputs": [],
   "source": []
  }
 ],
 "metadata": {
  "kernelspec": {
   "display_name": "Python 3",
   "language": "python",
   "name": "python3"
  },
  "language_info": {
   "codemirror_mode": {
    "name": "ipython",
    "version": 3
   },
   "file_extension": ".py",
   "mimetype": "text/x-python",
   "name": "python",
   "nbconvert_exporter": "python",
   "pygments_lexer": "ipython3",
   "version": "3.7.3"
  }
 },
 "nbformat": 4,
 "nbformat_minor": 2
}
